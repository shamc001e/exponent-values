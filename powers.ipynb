{
 "cells": [
  {
   "cell_type": "code",
   "execution_count": 4,
   "metadata": {},
   "outputs": [],
   "source": [
    "powers = {\"numbers\": [2, 3, 4, 5, 6, 7, 8, 9, 10],\n",
    "          \"2\":[4, 9, 16, 25, 36, 49, 64, 81, 100],\n",
    "          \"3\":[8, 27, 64, 125, 216, 343, 512, 729, 1000],\n",
    "          \"4\":[16, 81, 256, 625, 1296, 2401, 4096, 6561, 10000],\n",
    "          \"5\":[32, 243, 1024, 3125, 7776, 16807, 32768, 59049, 100000],\n",
    "          \"6\":[64, 729, 4096, 15625, 46656, 117649, 262144, 531441,1000000],\n",
    "          \"7\":[128, 2187, 16384, 78125, 279936, 823543, 2097152, 4782969, 10000000],\n",
    "          \"8\":[256, 6561, 65536, 390625, 1679616, 5764801, 16777216, 43046721, 100000000],\n",
    "          \"9\":[512, 19683, 262144, 1953125, 10077696, 40353607, 134217728, 387420489, 1000000000],\n",
    "          \"10\":[1024, 59049, 1048576, 9765625, 60466176, 282475249, 1073741824, 3486784401, 10000000000]}"
   ]
  },
  {
   "cell_type": "code",
   "execution_count": 2,
   "metadata": {},
   "outputs": [],
   "source": [
    "import pandas as pd\n",
    "import numpy as np"
   ]
  },
  {
   "cell_type": "code",
   "execution_count": null,
   "metadata": {},
   "outputs": [],
   "source": []
  },
  {
   "cell_type": "code",
   "execution_count": 19,
   "metadata": {},
   "outputs": [],
   "source": [
    "#exponents table\n",
    "dt_powers = pd.DataFrame(powers)\n",
    "dt_indexed = dt_powers.set_index(\"numbers\")\n",
    "np.savetxt(r'power_data.txt', dt_indexed.values, fmt='%d')"
   ]
  },
  {
   "cell_type": "code",
   "execution_count": null,
   "metadata": {},
   "outputs": [],
   "source": []
  },
  {
   "cell_type": "code",
   "execution_count": null,
   "metadata": {},
   "outputs": [],
   "source": []
  }
 ],
 "metadata": {
  "kernelspec": {
   "display_name": "Python 3",
   "language": "python",
   "name": "python3"
  },
  "language_info": {
   "codemirror_mode": {
    "name": "ipython",
    "version": 3
   },
   "file_extension": ".py",
   "mimetype": "text/x-python",
   "name": "python",
   "nbconvert_exporter": "python",
   "pygments_lexer": "ipython3",
   "version": "3.7.6"
  }
 },
 "nbformat": 4,
 "nbformat_minor": 4
}
